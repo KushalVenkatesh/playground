{
 "cells": [
  {
   "cell_type": "code",
   "execution_count": 1,
   "metadata": {
    "collapsed": true
   },
   "outputs": [],
   "source": [
    "import pandas as pd\n",
    "import numpy as np"
   ]
  },
  {
   "cell_type": "code",
   "execution_count": 2,
   "metadata": {
    "collapsed": false
   },
   "outputs": [],
   "source": [
    "data = pd.read_csv(\"challenge_training_data.csv\")"
   ]
  },
  {
   "cell_type": "code",
   "execution_count": 3,
   "metadata": {
    "collapsed": false
   },
   "outputs": [
    {
     "name": "stdout",
     "output_type": "stream",
     "text": [
      "['\\\\documentclass[10pt,a4paper]{letter}\\n', '\\\\usepackage[utf8]{inputenc}\\n', '\\\\usepackage{amsmath}\\n', '\\\\usepackage{amsfonts}\\n', '\\\\usepackage{amssymb}\\n', '\\\\address{your name and address} \\n', '\\\\signature{your signature} \\n', '\\\\begin{document} \\n', '\\\\begin{letter}{name and address of the recipient} \\n', '\\\\opening{saying hello} \\n', ' \\n', 'write your letter here \\n', ' \\n', '\\\\closing{saying goodbye} \\n', '\\\\cc{Cclist} \\n', '\\\\ps{adding a postscript} \\n', '\\\\encl{list of enclosed material} \\n', '\\\\end{letter} \\n', '\\\\end{document}']\n"
     ]
    }
   ],
   "source": [
    "f = open(\"test.tex\")\n",
    "print(f.readlines())"
   ]
  },
  {
   "cell_type": "code",
   "execution_count": 4,
   "metadata": {
    "collapsed": false
   },
   "outputs": [
    {
     "name": "stdout",
     "output_type": "stream",
     "text": [
      "\\documentclass[10pt,a4paper]{letter}\n",
      "\\usepackage[utf8]{inputenc}\n",
      "\\usepackage{amsmath}\n",
      "\\usepackage{amsfonts}\n",
      "\\usepackage{amssymb}\n",
      "\\address{your name and address}\n",
      "\\signature{your signature}\n",
      "\\begin{document}\n",
      "\\begin{letter}{name and address of the recipient}\n",
      "\\opening{saying hello}\n",
      "\n",
      "write your letter here\n",
      "\n",
      "\\closing{saying goodbye}\n",
      "\\cc{Cclist}\n",
      "\\ps{adding a postscript}\n",
      "\\encl{list of enclosed material}\n",
      "\\end{letter}\n",
      "\\end{document}\n"
     ]
    }
   ],
   "source": [
    "with open(\"test.tex\") as file:\n",
    "    for line in file:\n",
    "        print(line.strip())"
   ]
  },
  {
   "cell_type": "code",
   "execution_count": 5,
   "metadata": {
    "collapsed": false
   },
   "outputs": [
    {
     "name": "stdout",
     "output_type": "stream",
     "text": [
      "\\documentclass[10pt,a4paper]{letter}\n",
      "\\usepackage[utf8]{inputenc}\n",
      "\\usepackage{amsmath}\n",
      "\\usepackage{amsfonts}\n",
      "\\usepackage{amssymb}\n",
      "\\address{Darya and Late Str.}\n",
      "\\signature{DaryaDed}\n",
      "\\begin{document}\n",
      "\\begin{letter}{name and Late Str. of the recipient}\n",
      "\\opening{saying hello}\n",
      "\n",
      "write your letter here\n",
      "\n",
      "\\closing{saying goodbye}\n",
      "\\cc{Cclist}\n",
      "\\ps{adding a postscript}\n",
      "\\encl{list of enclosed material}\n",
      "\\end{letter}\n",
      "\\end{document}\n"
     ]
    }
   ],
   "source": [
    "replacements = {'your name':'Darya', 'your signature':'DaryaDed', ' address':' Late Str.'}\n",
    "\n",
    "with open(\"test.tex\") as file, open(\"new_file.txt\", \"w\") as new_file:\n",
    "    for line in file:\n",
    "        for src, target in replacements.items():\n",
    "            line = line.replace(src, target)\n",
    "        new_file.write(line)\n",
    "        print(line.strip())"
   ]
  },
  {
   "cell_type": "code",
   "execution_count": 6,
   "metadata": {
    "collapsed": false
   },
   "outputs": [
    {
     "name": "stdout",
     "output_type": "stream",
     "text": [
      "Command: \\documentclass[10pt,a4paper], Params: letter\n",
      "Command: \\usepackage[utf8], Params: inputenc\n",
      "Command: \\usepackage, Params: amsmath\n",
      "Command: \\usepackage, Params: amsfonts\n",
      "Command: \\usepackage, Params: amssymb\n",
      "Command: \\address, Params: your name and address\n",
      "Command: \\signature, Params: your signature\n",
      "Command: \\begin, Params: document\n",
      "Command: \\begin, Params: letter}{name and address of the recipient\n",
      "Command: \\opening, Params: saying hello\n",
      "Command: \\closing, Params: saying goodbye\n",
      "Command: \\cc, Params: Cclist\n",
      "Command: \\ps, Params: adding a postscript\n",
      "Command: \\encl, Params: list of enclosed material\n",
      "Command: \\end, Params: letter\n",
      "Command: \\end, Params: document\n"
     ]
    }
   ],
   "source": [
    "with open(\"test.tex\") as file:\n",
    "    for line in file:\n",
    "        if \"{\" in line:\n",
    "            command, params = line.strip().split(\"{\", 1)\n",
    "            #print(\"Command: {0}, Params: {{{1}\".format(command, params))\n",
    "            print(\"Command: {0}, Params: {1}\".format(command, params.strip(\"}\")))"
   ]
  }
 ],
 "metadata": {
  "anaconda-cloud": {},
  "kernelspec": {
   "display_name": "Python [default]",
   "language": "python",
   "name": "python3"
  },
  "language_info": {
   "codemirror_mode": {
    "name": "ipython",
    "version": 3
   },
   "file_extension": ".py",
   "mimetype": "text/x-python",
   "name": "python",
   "nbconvert_exporter": "python",
   "pygments_lexer": "ipython3",
   "version": "3.5.2"
  }
 },
 "nbformat": 4,
 "nbformat_minor": 2
}
